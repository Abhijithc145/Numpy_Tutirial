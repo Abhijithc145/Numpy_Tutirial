{
 "cells": [
  {
   "cell_type": "code",
   "execution_count": 13,
   "id": "95d29844",
   "metadata": {},
   "outputs": [],
   "source": [
    "import numpy as np"
   ]
  },
  {
   "cell_type": "code",
   "execution_count": 15,
   "id": "a77d5eb0",
   "metadata": {},
   "outputs": [
    {
     "name": "stdout",
     "output_type": "stream",
     "text": [
      "46\n",
      "<class 'numpy.ndarray'>\n",
      "0\n"
     ]
    }
   ],
   "source": [
    "zeroD=np.array(46)\n",
    "print(zeroD)\n",
    "print(type(zeroD))\n",
    "print(zeroD.ndim)"
   ]
  },
  {
   "cell_type": "code",
   "execution_count": 16,
   "id": "1c6484de",
   "metadata": {},
   "outputs": [
    {
     "name": "stdout",
     "output_type": "stream",
     "text": [
      "[1 2 3 4 5]\n",
      "<class 'numpy.ndarray'>\n",
      "1\n"
     ]
    }
   ],
   "source": [
    "oneD=np.array([1,2,3,4,5])\n",
    "print(oneD)\n",
    "print(type(oneD))\n",
    "print(oneD.ndim)"
   ]
  },
  {
   "cell_type": "code",
   "execution_count": 23,
   "id": "85bc449e",
   "metadata": {},
   "outputs": [
    {
     "name": "stdout",
     "output_type": "stream",
     "text": [
      "[[1 2 3 4]\n",
      " [5 6 7 8]]\n",
      "<class 'numpy.ndarray'>\n",
      "2\n",
      "[[ 1  2  3]\n",
      " [10 20 30]]\n"
     ]
    }
   ],
   "source": [
    "twoD=np.array([[1,2,3,4],[5,6,7,8]])\n",
    "print(twoD)\n",
    "print(type(twoD))\n",
    "print(twoD.ndim)\n",
    "\n",
    "\n",
    "twoD1=np.array([[1,2,3],[10,20,30]])\n",
    "print(twoD1)"
   ]
  },
  {
   "cell_type": "code",
   "execution_count": 26,
   "id": "db6c9149",
   "metadata": {},
   "outputs": [
    {
     "name": "stdout",
     "output_type": "stream",
     "text": [
      "---------\n",
      "3\n",
      "---------\n",
      "0\n",
      "1\n",
      "2\n",
      "3\n"
     ]
    }
   ],
   "source": [
    "a = np.array(42)\n",
    "b = np.array([1, 2, 3, 4, 5])\n",
    "c = np.array([[1, 2, 3], [4, 5, 6]])\n",
    "d = np.array([[[1, 2, 3], [4, 5, 6]], [[1, 2, 3], [4, 5, 6]]])\n",
    "\n",
    "print(\"---------\")\n",
    "e=np.array([[[123,456,789]]])\n",
    "print(e.ndim)\n",
    "print(\"---------\")\n",
    "\n",
    "print(a.ndim)\n",
    "print(b.ndim)\n",
    "print(c.ndim)\n",
    "print(d.ndim)"
   ]
  },
  {
   "cell_type": "code",
   "execution_count": null,
   "id": "5cc19746",
   "metadata": {},
   "outputs": [],
   "source": []
  }
 ],
 "metadata": {
  "kernelspec": {
   "display_name": "Python 3 (ipykernel)",
   "language": "python",
   "name": "python3"
  },
  "language_info": {
   "codemirror_mode": {
    "name": "ipython",
    "version": 3
   },
   "file_extension": ".py",
   "mimetype": "text/x-python",
   "name": "python",
   "nbconvert_exporter": "python",
   "pygments_lexer": "ipython3",
   "version": "3.11.5"
  }
 },
 "nbformat": 4,
 "nbformat_minor": 5
}
