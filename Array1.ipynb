{
 "cells": [
  {
   "cell_type": "code",
   "execution_count": 28,
   "id": "dc11bb12",
   "metadata": {},
   "outputs": [],
   "source": [
    "import numpy as np"
   ]
  },
  {
   "cell_type": "code",
   "execution_count": 32,
   "id": "ce600913",
   "metadata": {},
   "outputs": [
    {
     "name": "stdout",
     "output_type": "stream",
     "text": [
      "1\n",
      "10\n",
      "9\n"
     ]
    }
   ],
   "source": [
    "arr=np.array([1,2,3,4,5,6,7,8,9,10])\n",
    "print(arr[0])\n",
    "print(arr[9])\n",
    "print(arr[2]+arr[5])"
   ]
  },
  {
   "cell_type": "code",
   "execution_count": 50,
   "id": "3c1c0c54",
   "metadata": {},
   "outputs": [
    {
     "name": "stdout",
     "output_type": "stream",
     "text": [
      "------2 D array --------\n",
      "\n",
      "\n",
      "3nd element of first row =  3\n",
      "5nd element of the second row=  10\n",
      "Add 2nd element of the first row and 3rd element of the second row = 10\n",
      "2nd row last element = 10\n",
      "1st row second last element =  4\n",
      "----------\n",
      "\n",
      "------3 D array --------\n",
      "\n",
      "\n",
      "[[[ 1  2  3]\n",
      "  [ 4  5  6]]\n",
      "\n",
      " [[ 7  8  9]\n",
      "  [10 11 12]]]\n",
      "----------\n",
      "\n",
      "1\n",
      "4\n",
      "6\n",
      "7\n",
      "10\n",
      "11\n"
     ]
    }
   ],
   "source": [
    "\n",
    "print(\"------2 D array --------\\n\\n\")\n",
    "twoD_arr=np.array([[1,2,3,4,5],[6,7,8,9,10]])\n",
    "print(\"3nd element of first row = \",twoD_arr[0,2])\n",
    "print(\"5nd element of the second row= \",twoD_arr[1,4])\n",
    "print(\"Add 2nd element of the first row and 3rd element of the second row =\",twoD_arr[0,1]+twoD_arr[1,2])\n",
    "print(\"2nd row last element =\",twoD_arr[1,-1])\n",
    "print(\"1st row second last element = \",twoD_arr[0,-2])\n",
    "\n",
    "print(\"----------\\n\")\n",
    "\n",
    "print(\"------3 D array --------\\n\\n\")\n",
    "thirdD_arr=np.array([[[1,2,3],[4,5,6]],[[7,8,9],[10,11,12]]])\n",
    "print(thirdD_arr)\n",
    "print(\"----------\\n\")\n",
    "print(thirdD_arr[0,0,0])\n",
    "print(thirdD_arr[0,1,0])\n",
    "print(thirdD_arr[0,1,2])\n",
    "print(thirdD_arr[1,0,0])\n",
    "print(thirdD_arr[1,1,0])\n",
    "print(thirdD_arr[1,1,1])\n",
    "\n"
   ]
  },
  {
   "cell_type": "code",
   "execution_count": 69,
   "id": "792bcfd4",
   "metadata": {},
   "outputs": [
    {
     "name": "stdout",
     "output_type": "stream",
     "text": [
      "--Slicing______--------\n",
      "\n",
      "[ 3  4  5  6  7  8  9 10]\n",
      "[1 2 3 4]\n",
      "[8]\n",
      "[ 2  3  4  5  6  7  8  9 10]\n",
      "[3 5 7 9]\n",
      "[ 1  4  7 10]\n",
      "[ 1  4  7 10]\n",
      "[1 3 5 7 9]\n",
      "[1 3 5 7 9]\n",
      "--___2 D__Slicing______--------\n",
      "\n",
      "[7]\n",
      "[ 7  8  9 10]\n",
      "[ 6  8 10]\n",
      "[2 7]\n",
      "s1---> [[2 3 4]\n",
      " [7 8 9]]\n"
     ]
    }
   ],
   "source": [
    "print(\"--Slicing______--------\\n\")\n",
    "print(arr[2:])\n",
    "print(arr[:4])\n",
    "print(arr[-3:-2])\n",
    "print(arr[1:10:1])\n",
    "print(arr[2:9:2])\n",
    "print(arr[0:10:3])\n",
    "print(arr[::3])\n",
    "print(arr[0:10:2])\n",
    "print(arr[::2])\n",
    "\n",
    "\n",
    "print(\"--___2 D__Slicing______--------\\n\")\n",
    "print(twoD_arr[1,1:2])\n",
    "print(twoD_arr[1,1:])\n",
    "print(twoD_arr[1,::2])\n",
    "print(twoD_arr[0:4,1])\n",
    "print(\"s1--->\",twoD_arr[0:5,1:4])\n",
    "\n",
    "\n"
   ]
  },
  {
   "cell_type": "code",
   "execution_count": 77,
   "id": "ed9b425e",
   "metadata": {},
   "outputs": [
    {
     "name": "stdout",
     "output_type": "stream",
     "text": [
      "--_______Array Shapes______--------\n",
      "\n",
      "(10,)\n",
      "(2, 5)\n",
      "(2, 2, 3)\n",
      "[[[[[1 2 3 4 5]]]]]\n",
      "(1, 1, 1, 1, 5)\n",
      "5\n"
     ]
    }
   ],
   "source": [
    "print(\"--_______Array Shapes______--------\\n\")\n",
    "print(arr.shape)\n",
    "print(twoD_arr.shape)\n",
    "print(thirdD_arr.shape)  #2squere and 3 element\n",
    "\n",
    "arr1=np.array([1,2,3,4,5],ndmin=5)\n",
    "print(arr1)\n",
    "print(arr1.shape)\n",
    "print(arr1.ndim)"
   ]
  },
  {
   "cell_type": "code",
   "execution_count": null,
   "id": "ebfcdce4",
   "metadata": {},
   "outputs": [],
   "source": []
  }
 ],
 "metadata": {
  "kernelspec": {
   "display_name": "Python 3 (ipykernel)",
   "language": "python",
   "name": "python3"
  },
  "language_info": {
   "codemirror_mode": {
    "name": "ipython",
    "version": 3
   },
   "file_extension": ".py",
   "mimetype": "text/x-python",
   "name": "python",
   "nbconvert_exporter": "python",
   "pygments_lexer": "ipython3",
   "version": "3.11.5"
  }
 },
 "nbformat": 4,
 "nbformat_minor": 5
}
